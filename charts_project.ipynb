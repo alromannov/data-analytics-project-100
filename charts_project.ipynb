{
 "cells": [
  {
   "cell_type": "code",
   "execution_count": 49,
   "id": "b7d6bea0-af21-4922-a32d-d70ec7fe07d3",
   "metadata": {
    "tags": []
   },
   "outputs": [],
   "source": [
    "import pandas as pd\n",
    "import requests as rq\n",
    "import matplotlib.pyplot as plt\n",
    "import os\n",
    "import sys\n",
    "from dotenv import load_dotenv"
   ]
  },
  {
   "cell_type": "code",
   "execution_count": 56,
   "id": "9461527c",
   "metadata": {
    "tags": []
   },
   "outputs": [],
   "source": [
    "def load_env():\n",
    "    load_dotenv()\n",
    "    return os.getenv('DATE_BEGIN', ''), os.getenv('DATE_END', ''), os.getenv('API_URL', '')"
   ]
  },
  {
   "cell_type": "code",
   "execution_count": 57,
   "id": "db6ef653",
   "metadata": {
    "tags": []
   },
   "outputs": [],
   "source": [
    "def create_charts_folder():\n",
    "    current_dir = os.getcwd() \n",
    "    charts_folder = os.path.join(current_dir, 'charts')\n",
    "\n",
    "    if not os.path.exists(charts_folder):\n",
    "        os.makedirs(charts_folder)"
   ]
  },
  {
   "cell_type": "code",
   "execution_count": 58,
   "id": "f30db91f-f0a4-4e35-84b3-0c7628bcf86c",
   "metadata": {
    "tags": []
   },
   "outputs": [
    {
     "data": {
      "text/html": [
       "<div>\n",
       "<style scoped>\n",
       "    .dataframe tbody tr th:only-of-type {\n",
       "        vertical-align: middle;\n",
       "    }\n",
       "\n",
       "    .dataframe tbody tr th {\n",
       "        vertical-align: top;\n",
       "    }\n",
       "\n",
       "    .dataframe thead th {\n",
       "        text-align: right;\n",
       "    }\n",
       "</style>\n",
       "<table border=\"1\" class=\"dataframe\">\n",
       "  <thead>\n",
       "    <tr style=\"text-align: right;\">\n",
       "      <th></th>\n",
       "      <th></th>\n",
       "      <th>visit_id</th>\n",
       "    </tr>\n",
       "    <tr>\n",
       "      <th>datetime</th>\n",
       "      <th>platform</th>\n",
       "      <th></th>\n",
       "    </tr>\n",
       "  </thead>\n",
       "  <tbody>\n",
       "    <tr>\n",
       "      <th rowspan=\"3\" valign=\"top\">2023-03-01</th>\n",
       "      <th>android</th>\n",
       "      <td>75</td>\n",
       "    </tr>\n",
       "    <tr>\n",
       "      <th>ios</th>\n",
       "      <td>22</td>\n",
       "    </tr>\n",
       "    <tr>\n",
       "      <th>web</th>\n",
       "      <td>787</td>\n",
       "    </tr>\n",
       "    <tr>\n",
       "      <th rowspan=\"2\" valign=\"top\">2023-03-02</th>\n",
       "      <th>android</th>\n",
       "      <td>67</td>\n",
       "    </tr>\n",
       "    <tr>\n",
       "      <th>ios</th>\n",
       "      <td>31</td>\n",
       "    </tr>\n",
       "    <tr>\n",
       "      <th>...</th>\n",
       "      <th>...</th>\n",
       "      <td>...</td>\n",
       "    </tr>\n",
       "    <tr>\n",
       "      <th rowspan=\"2\" valign=\"top\">2023-05-30</th>\n",
       "      <th>ios</th>\n",
       "      <td>21</td>\n",
       "    </tr>\n",
       "    <tr>\n",
       "      <th>web</th>\n",
       "      <td>606</td>\n",
       "    </tr>\n",
       "    <tr>\n",
       "      <th rowspan=\"3\" valign=\"top\">2023-05-31</th>\n",
       "      <th>android</th>\n",
       "      <td>61</td>\n",
       "    </tr>\n",
       "    <tr>\n",
       "      <th>ios</th>\n",
       "      <td>32</td>\n",
       "    </tr>\n",
       "    <tr>\n",
       "      <th>web</th>\n",
       "      <td>554</td>\n",
       "    </tr>\n",
       "  </tbody>\n",
       "</table>\n",
       "<p>276 rows × 1 columns</p>\n",
       "</div>"
      ],
      "text/plain": [
       "                     visit_id\n",
       "datetime   platform          \n",
       "2023-03-01 android         75\n",
       "           ios             22\n",
       "           web            787\n",
       "2023-03-02 android         67\n",
       "           ios             31\n",
       "...                       ...\n",
       "2023-05-30 ios             21\n",
       "           web            606\n",
       "2023-05-31 android         61\n",
       "           ios             32\n",
       "           web            554\n",
       "\n",
       "[276 rows x 1 columns]"
      ]
     },
     "execution_count": 58,
     "metadata": {},
     "output_type": "execute_result"
    }
   ],
   "source": [
    "def visits_grouped():\n",
    "    DATE_BEGIN, DATE_END, API_URL = load_env()\n",
    "    vis = rq.get(f'{API_URL}/visits', params={'begin': DATE_BEGIN, 'end': DATE_END})\n",
    "    visits = pd.DataFrame.from_records(vis.json())\n",
    "    visits['datetime'] = pd.to_datetime(visits['datetime'])\n",
    "    mask = visits['platform'].str.contains('bot')\n",
    "    visits = visits[~mask]\n",
    "    max_visits = visits.groupby('visit_id').last().reset_index()\n",
    "    max_visits['datetime'] = max_visits['datetime'].dt.date\n",
    "    mask = max_visits['platform'].str.contains('bot')\n",
    "    max_visits = max_visits[~mask]  \n",
    "    gr_vis = max_visits.groupby(['datetime', 'platform']).agg({'visit_id': 'count'}).head(1000)\n",
    "    \n",
    "    return gr_vis\n",
    "visits_grouped()"
   ]
  },
  {
   "cell_type": "code",
   "execution_count": 59,
   "id": "2b0dca9d-6ca0-433d-b96f-582854559799",
   "metadata": {
    "tags": []
   },
   "outputs": [
    {
     "data": {
      "text/html": [
       "<div>\n",
       "<style scoped>\n",
       "    .dataframe tbody tr th:only-of-type {\n",
       "        vertical-align: middle;\n",
       "    }\n",
       "\n",
       "    .dataframe tbody tr th {\n",
       "        vertical-align: top;\n",
       "    }\n",
       "\n",
       "    .dataframe thead th {\n",
       "        text-align: right;\n",
       "    }\n",
       "</style>\n",
       "<table border=\"1\" class=\"dataframe\">\n",
       "  <thead>\n",
       "    <tr style=\"text-align: right;\">\n",
       "      <th></th>\n",
       "      <th></th>\n",
       "      <th>user_id</th>\n",
       "    </tr>\n",
       "    <tr>\n",
       "      <th>datetime</th>\n",
       "      <th>platform</th>\n",
       "      <th></th>\n",
       "    </tr>\n",
       "  </thead>\n",
       "  <tbody>\n",
       "    <tr>\n",
       "      <th rowspan=\"3\" valign=\"top\">2023-03-01</th>\n",
       "      <th>android</th>\n",
       "      <td>61</td>\n",
       "    </tr>\n",
       "    <tr>\n",
       "      <th>ios</th>\n",
       "      <td>18</td>\n",
       "    </tr>\n",
       "    <tr>\n",
       "      <th>web</th>\n",
       "      <td>8</td>\n",
       "    </tr>\n",
       "    <tr>\n",
       "      <th rowspan=\"2\" valign=\"top\">2023-03-02</th>\n",
       "      <th>android</th>\n",
       "      <td>59</td>\n",
       "    </tr>\n",
       "    <tr>\n",
       "      <th>ios</th>\n",
       "      <td>24</td>\n",
       "    </tr>\n",
       "    <tr>\n",
       "      <th>...</th>\n",
       "      <th>...</th>\n",
       "      <td>...</td>\n",
       "    </tr>\n",
       "    <tr>\n",
       "      <th rowspan=\"2\" valign=\"top\">2023-05-30</th>\n",
       "      <th>ios</th>\n",
       "      <td>14</td>\n",
       "    </tr>\n",
       "    <tr>\n",
       "      <th>web</th>\n",
       "      <td>26</td>\n",
       "    </tr>\n",
       "    <tr>\n",
       "      <th rowspan=\"3\" valign=\"top\">2023-05-31</th>\n",
       "      <th>android</th>\n",
       "      <td>42</td>\n",
       "    </tr>\n",
       "    <tr>\n",
       "      <th>ios</th>\n",
       "      <td>24</td>\n",
       "    </tr>\n",
       "    <tr>\n",
       "      <th>web</th>\n",
       "      <td>51</td>\n",
       "    </tr>\n",
       "  </tbody>\n",
       "</table>\n",
       "<p>276 rows × 1 columns</p>\n",
       "</div>"
      ],
      "text/plain": [
       "                     user_id\n",
       "datetime   platform         \n",
       "2023-03-01 android        61\n",
       "           ios            18\n",
       "           web             8\n",
       "2023-03-02 android        59\n",
       "           ios            24\n",
       "...                      ...\n",
       "2023-05-30 ios            14\n",
       "           web            26\n",
       "2023-05-31 android        42\n",
       "           ios            24\n",
       "           web            51\n",
       "\n",
       "[276 rows x 1 columns]"
      ]
     },
     "execution_count": 59,
     "metadata": {},
     "output_type": "execute_result"
    }
   ],
   "source": [
    "def registrations_grouped():\n",
    "    DATE_BEGIN, DATE_END, API_URL = load_env()\n",
    "    rgs = rq.get(f'{API_URL}/registrations', params={'begin': DATE_BEGIN, 'end': DATE_END})\n",
    "    regs= pd.DataFrame.from_records(rgs.json())\n",
    "    regs['datetime'] = pd.to_datetime(regs['datetime']).dt.date\n",
    "    gr_regs= regs.groupby(['datetime', 'platform']).agg({'user_id': 'count'})\n",
    "    return gr_regs.head(1000)\n",
    "registrations_grouped()"
   ]
  },
  {
   "cell_type": "code",
   "execution_count": 6,
   "id": "555a8590",
   "metadata": {
    "tags": []
   },
   "outputs": [],
   "source": [
    "def conversion():\n",
    "    gr_vis = visits_grouped()\n",
    "    gr_regs = registrations_grouped()\n",
    "    rv_merged = pd.merge(gr_vis, gr_regs, on=['datetime', 'platform'])\n",
    "    rv_merged = rv_merged.rename(columns={'datetime': 'date_group', 'visit_id': 'visits', 'user_id': 'registrations'})\n",
    "    rv_merged['conversion'] = (rv_merged['registrations'] / rv_merged['visits']) * 100\n",
    "    dfconv = rv_merged.reset_index()\n",
    "    dfconv.to_json('./conversion.json')\n",
    "    return dfconv.head(1000)\n",
    "\n"
   ]
  },
  {
   "cell_type": "code",
   "execution_count": 7,
   "id": "6bb2a72d-2567-475b-9a48-681a89735531",
   "metadata": {
    "tags": []
   },
   "outputs": [],
   "source": [
    "def ads_upload_merge():\n",
    "    ads = pd.read_csv('ads.csv')\n",
    "    ads = ads.rename(columns={'date': 'datetime'})\n",
    "    ads['datetime'] = pd.to_datetime(ads['datetime']).dt.date\n",
    "    ads_new = ads.loc[:, ['datetime', 'cost', 'utm_campaign']]\n",
    "    dfconv = conversion()\n",
    "    rv_merged1 = pd.merge(dfconv, ads_new, on=['datetime'], how='left')\n",
    "    rv_merged1['cost'] = rv_merged1['cost'].fillna(0)\n",
    "    rv_merged1['utm_campaign'] = rv_merged1['utm_campaign'].fillna('none')\n",
    "    rv_merged1 = rv_merged1.rename(columns={'datetime': 'date_group', 'utm_campaign': 'campaign'})\n",
    "    ads_merged = rv_merged1.loc[:, ['date_group', 'visits', 'registrations', 'cost', 'campaign']]\n",
    "    ads_merged.to_json('./ads.json')\n",
    "    # Сохранение в файл Excel\n",
    "    return ads_merged.head(1000)\n"
   ]
  },
  {
   "cell_type": "code",
   "execution_count": 8,
   "id": "969314b8-6d8f-451b-9c5d-62bae6a04e13",
   "metadata": {
    "tags": []
   },
   "outputs": [],
   "source": [
    "def itog_visits():\n",
    "    # Итоговые визиты\n",
    "    rv_merged1 = ads_upload_merge()\n",
    "    rv_merged1_agg = rv_merged1.groupby('date_group')['visits'].sum().reset_index()\n",
    "    plt.figure(figsize=(40, 30))\n",
    "    plt.bar(rv_merged1_agg['date_group'], rv_merged1_agg['visits'])\n",
    "    for i in range(len(rv_merged1_agg['date_group'])):\n",
    "        plt.text(rv_merged1_agg['date_group'][i], rv_merged1_agg['visits'][i], str(rv_merged1_agg['visits'][i]), ha='center')\n",
    "    plt.xlabel('date_group')\n",
    "    plt.ylabel('Visits')\n",
    "    plt.title('Total visits')\n",
    "    plt.xticks(rotation=45)\n",
    "    plt.gca().set_xticks(rv_merged1_agg['date_group']) \n",
    "    plt.gca().xaxis.set_tick_params(labelsize=8)\n",
    "    plt.savefig(\"charts/Total_Visits.png\")\n",
    "    "
   ]
  },
  {
   "cell_type": "code",
   "execution_count": 9,
   "id": "ebfce71c-9fc3-4f63-8309-1daf07acff52",
   "metadata": {
    "tags": []
   },
   "outputs": [],
   "source": [
    "def itog_visits_by_platform():\n",
    "    #Итоговые визиты с разбивкой по платформам: web, android, ios, bot\n",
    "    gr_vis = conversion() \n",
    "    gr_vis['datetime'] = pd.to_datetime(gr_vis['datetime'])\n",
    "\n",
    "    fig, axs = plt.subplots(1, 1, figsize=(20, 12))\n",
    "\n",
    "    df_pivot_visit = gr_vis.pivot_table(values='visits', index='datetime', columns='platform', aggfunc='sum') \n",
    "    ax = df_pivot_visit.plot(kind='bar', stacked=True, ax=axs) \n",
    "    ax.set_xlabel('date_group') \n",
    "    ax.set_ylabel('visits') \n",
    "    ax.set_title('Visits by platform(Staked)') \n",
    "    ax.legend(title='platform') \n",
    "    ax.yaxis.grid(True)\n",
    "\n",
    "    ax.set_xticklabels(ax.get_xticklabels(), rotation=45, ha='right') \n",
    "    ax.xaxis.set_major_locator(plt.MaxNLocator(30))\n",
    "\n",
    "    plt.tight_layout()\n",
    "    plt.savefig(\"charts/Visits_By_Platform.png\")\n"
   ]
  },
  {
   "cell_type": "code",
   "execution_count": 10,
   "id": "bc170d18-fbcf-44ef-bd6f-16a93252392b",
   "metadata": {
    "tags": []
   },
   "outputs": [],
   "source": [
    "def itog_registrations():\n",
    "    # Итоговые регистрации\n",
    "    gr_regs = registrations_grouped()\n",
    "    group_plt = gr_regs.groupby('datetime')['user_id'].sum().reset_index()\n",
    "    plt.figure(figsize=(40, 30))\n",
    "    plt.bar(group_plt['datetime'], group_plt['user_id'])\n",
    "    for i in range(len(group_plt['datetime'])):\n",
    "        plt.text(group_plt['datetime'][i], group_plt['user_id'][i], str(group_plt['user_id'][i]), ha='center')\n",
    "    plt.xlabel('date_group')\n",
    "    plt.ylabel('registrations')\n",
    "    plt.title('Total weekly registrations')\n",
    "    plt.xticks(rotation=45)\n",
    "    plt.gca().set_xticks(group_plt['datetime']) \n",
    "    plt.gca().xaxis.set_tick_params(labelsize=8)\n",
    "    plt.savefig(\"charts/Total_Weekly_Registrations.png\")"
   ]
  },
  {
   "cell_type": "code",
   "execution_count": 11,
   "id": "44688e81",
   "metadata": {
    "tags": []
   },
   "outputs": [],
   "source": [
    "def itog_registrations_by_paltform():\n",
    "    gr_vis = conversion() \n",
    "    gr_vis['datetime'] = pd.to_datetime(gr_vis['datetime'])\n",
    "\n",
    "    fig, axs = plt.subplots(1, 1, figsize=(20, 12))\n",
    "\n",
    "    df_pivot_visit = gr_vis.pivot_table(values='registrations', index='datetime', columns='platform', aggfunc='sum') \n",
    "    ax = df_pivot_visit.plot(kind='bar', stacked=True, ax=axs) \n",
    "    ax.set_xlabel('date_group') \n",
    "    ax.set_ylabel('registrations') \n",
    "    ax.set_title('Registrations by platform(Staked)') \n",
    "    ax.legend(title='platform') \n",
    "    ax.yaxis.grid(True)\n",
    "\n",
    "    ax.set_xticklabels(ax.get_xticklabels(), rotation=45, ha='right') \n",
    "    ax.xaxis.set_major_locator(plt.MaxNLocator(30))\n",
    "\n",
    "    plt.tight_layout() \n",
    "    plt.savefig(\"charts/Weekly_Registrations_By_Platform.png\")\n"
   ]
  },
  {
   "cell_type": "code",
   "execution_count": 12,
   "id": "5e745391",
   "metadata": {
    "tags": []
   },
   "outputs": [],
   "source": [
    "def registrations_by_type():\n",
    "    # Итоговые регистрации с разбивкой по типу регистрации\n",
    "    rgs = rq.get(f'{API_URL}/registrations?begin={DATE_BEGIN}&end={DATE_END}')\n",
    "    r = rgs.json()\n",
    "    reg = pd.DataFrame.from_dict(r)\n",
    "    regs = reg.sort_values('datetime').copy()\n",
    "    regs['datetime'] = pd.to_datetime(regs['datetime']).dt.date \n",
    "    gr_regs_type = regs.groupby(['datetime', 'registration_type']).agg({'user_id': 'count'}) \n",
    "    fig, axs = plt.subplots(1, 1, figsize=(20, 12))\n",
    "    df_pivot_visit = gr_regs_type.pivot_table(values='user_id', index='datetime', columns='registration_type', aggfunc='sum') \n",
    "    ax = df_pivot_visit.plot(kind='bar', stacked=True, ax=axs) \n",
    "    ax.set_xlabel('date_group') \n",
    "    ax.set_ylabel('registrations') \n",
    "    ax.set_title('Registrations by type(Staked)') \n",
    "    ax.legend(title='platform') \n",
    "    ax.yaxis.grid(True)\n",
    "\n",
    "    ax.set_xticklabels(ax.get_xticklabels(), rotation=45, ha='right') \n",
    "    ax.xaxis.set_major_locator(plt.MaxNLocator(30))\n",
    "\n",
    "    plt.tight_layout() \n",
    "    plt.savefig(\"charts/Weekly_Registrations_By_Registration_Type.png\")\n"
   ]
  },
  {
   "cell_type": "code",
   "execution_count": 13,
   "id": "9db19eb0",
   "metadata": {
    "tags": []
   },
   "outputs": [],
   "source": [
    "def registrations_by_type_pie():\n",
    "    # Итоговые регистрации с разбивкой по типу регистрации\n",
    "    rgs = rq.get(f'{API_URL}/registrations', params={'begin': DATE_BEGIN, 'end': DATE_END})\n",
    "    regs= pd.DataFrame.from_records(rgs.json())\n",
    "    regs['datetime'] = pd.to_datetime(regs['datetime']).dt.date\n",
    "    gr_regs_type = regs.groupby(['datetime', 'registration_type']).agg({'user_id': 'count'})\n",
    "    df_pivot_regs_type = gr_regs_type.pivot_table(values='user_id', index='datetime', columns='registration_type', aggfunc='sum')\n",
    "    # Итоговые регистрации с разбивкой по типу регистрации - pie chart\n",
    "    plt.subplot(1, 2, 1)  # Подграфик 1\n",
    "    plt.pie(df_pivot_regs_type.sum(), labels=df_pivot_regs_type.columns, autopct='%1.1f%%')\n",
    "    plt.title('Registration by Type')\n",
    "\n",
    "    gr_regs_platform = regs.groupby(['datetime', 'platform']).agg({'user_id': 'count'})\n",
    "    df_pivot_regs_platform = gr_regs_platform.pivot_table(values='user_id', index='datetime', columns='platform', aggfunc='sum')\n",
    "    # Итоговые регистрации с разбивкой по платформе - pie chart\n",
    "    plt.subplot(1, 2, 2)  # Подграфик 2\n",
    "    plt.pie(df_pivot_regs_platform.sum(), labels=df_pivot_regs_platform.columns, autopct='%1.1f%%')\n",
    "    plt.title('Registration by Platform')\n",
    "\n",
    "    plt.tight_layout() \n",
    "    plt.savefig(\"charts/Registrations_By_Platform_And_Type.png\")"
   ]
  },
  {
   "cell_type": "code",
   "execution_count": 14,
   "id": "31cc4b8d",
   "metadata": {
    "tags": []
   },
   "outputs": [],
   "source": [
    "def overall_conversion():\n",
    "    # Итоговые конверсии\n",
    "    dfconv = conversion()\n",
    "    conv_plot = dfconv.groupby('datetime')['conversion'].mean().reset_index()\n",
    "    plt.figure(figsize=(20, 14))\n",
    "    plt.plot(conv_plot['datetime'], conv_plot['conversion'], label='Overall Conversion')\n",
    "    for i in range(len(conv_plot)):\n",
    "        annotation = str(round(conv_plot['conversion'][i])) + ' %'\n",
    "        plt.annotate(annotation, (conv_plot['datetime'][i], conv_plot['conversion'][i]), textcoords=\"offset points\", xytext=(0,10), ha='center')\n",
    "    plt.xlabel('Date')\n",
    "    plt.ylabel('Conversion (%)')\n",
    "    plt.title('Overall conversion')\n",
    "    plt.xticks(rotation=45)\n",
    "    plt.legend(title='Общая конверсия')\n",
    "    plt.grid(True)\n",
    "    plt.savefig(\"charts/Overall_Conversion.png\")\n",
    "    "
   ]
  },
  {
   "cell_type": "code",
   "execution_count": 15,
   "id": "acde3718",
   "metadata": {
    "tags": []
   },
   "outputs": [],
   "source": [
    "def conversion_by_platform():\n",
    "    dfconv = conversion()\n",
    "    # Конверсия по каждой платформе\n",
    "    plt.subplots(figsize=(20, 20))\n",
    "    plt.subplot(3, 1, 1)\n",
    "    plt.plot(dfconv[dfconv['platform'] == 'android']['datetime'], dfconv[dfconv['platform'] == 'android']['conversion'])\n",
    "    for i in range(len(dfconv)):\n",
    "        annotation = str(round(dfconv['conversion'][i])) + '%'\n",
    "        plt.annotate(annotation, (dfconv['datetime'][i], dfconv['conversion'][i]), textcoords=\"offset points\", xytext=(0,10), ha='center')\n",
    "    plt.xlabel('Date')\n",
    "    plt.ylabel('Conversion (%)')\n",
    "    plt.title('Conversion Android')\n",
    "    plt.grid(True)\n",
    "\n",
    "    plt.subplot(3, 1, 2)\n",
    "    plt.plot(dfconv[dfconv['platform'] == 'ios']['datetime'], dfconv[dfconv['platform'] == 'ios']['conversion'])\n",
    "    for i in range(len(dfconv)):\n",
    "        annotation = str(round(dfconv['conversion'][i])) + '%'\n",
    "        plt.annotate(annotation, (dfconv['datetime'][i], dfconv['conversion'][i]), textcoords=\"offset points\", xytext=(0,10), ha='center')\n",
    "    plt.xlabel('Date')\n",
    "    plt.ylabel('Conversion (%)')\n",
    "    plt.title('Conversion iOS')\n",
    "    plt.grid(True)\n",
    "\n",
    "    plt.subplot(3, 1, 3)\n",
    "    plt.plot(dfconv[dfconv['platform'] == 'web']['datetime'], dfconv[dfconv['platform'] == 'web']['conversion'])\n",
    "    for i in range(len(dfconv)):\n",
    "        annotation = str(round(dfconv['conversion'][i])) + '%'\n",
    "        plt.annotate(annotation, (dfconv['datetime'][i], dfconv['conversion'][i]), textcoords=\"offset points\", xytext=(0,10), ha='center')\n",
    "    plt.xlabel('Date')\n",
    "    plt.ylabel('Conversion (%)')\n",
    "    plt.title('Conversion Web')\n",
    "    plt.grid(True)\n",
    "\n",
    "    plt.tight_layout()\n",
    "    plt.savefig(\"charts/Conversion_By_Platform.png\")"
   ]
  },
  {
   "cell_type": "code",
   "execution_count": 16,
   "id": "3668392b",
   "metadata": {
    "tags": []
   },
   "outputs": [],
   "source": [
    "def ads_cost():\n",
    "    # Стоимости реклам\n",
    "    rv_merged1 = ads_upload_merge()\n",
    "    cost_plot = rv_merged1.groupby('date_group')['cost'].mean().reset_index() \n",
    "    cost_plot['cost'] = cost_plot['cost'].astype(int)\n",
    "    plt.figure(figsize=(15, 10)) \n",
    "    plt.plot(cost_plot['date_group'], cost_plot['cost'], label='Overall Conversion')\n",
    "\n",
    "    for i in range(len(cost_plot)):\n",
    "        annotation = str(cost_plot['cost'][i]) + ' RUB'\n",
    "        plt.annotate(annotation, (cost_plot['date_group'][i], cost_plot['cost'][i]), textcoords=\"offset points\", xytext=(0,6), ha='center')\n",
    "\n",
    "    plt.xlabel('Date')\n",
    "    plt.ylabel('Cost (RUB)')\n",
    "    plt.title('Aggregated Ad Campaign Costs (by day) ')\n",
    "    plt.xticks(rotation=45)\n",
    "    plt.grid(True)\n",
    "    plt.savefig(\"charts/Aggregated_Ad_Campaign_Costs.png\")"
   ]
  },
  {
   "cell_type": "code",
   "execution_count": 17,
   "id": "092483cd",
   "metadata": {
    "tags": []
   },
   "outputs": [],
   "source": [
    "def visreq_colored():\n",
    "    #Визиты и регистрации с выделением рекламных кампаний\n",
    "    rv_merged1 = ads_upload_merge()\n",
    "    rv_merged1 = rv_merged1.loc[rv_merged1['campaign'] != 'none']\n",
    "    painted_visits = rv_merged1.groupby(['date_group', 'campaign']).agg({'visits': 'sum'})\n",
    "    painted_registrations = rv_merged1.groupby(['date_group', 'campaign']).agg({'registrations': 'sum'})\n",
    "\n",
    "\n",
    "    fig, (ax1, ax2) = plt.subplots(nrows=2, sharex=True, figsize=(10, 8))\n",
    "\n",
    "    for campaign in rv_merged1['campaign'].unique():\n",
    "        campaign_data_visits = painted_visits.loc[painted_visits.index.get_level_values('campaign') == campaign]\n",
    "        campaign_data_registrations = painted_registrations.loc[painted_registrations.index.get_level_values('campaign') == campaign]\n",
    "        ax1.plot(campaign_data_visits.index.get_level_values('date_group'), campaign_data_visits['visits'], label=campaign)\n",
    "        ax1.fill_between(campaign_data_visits.index.get_level_values('date_group'), 0, campaign_data_visits['visits'], alpha=0.2)\n",
    "        ax2.plot(campaign_data_registrations.index.get_level_values('date_group'), campaign_data_registrations['registrations'], label=campaign)\n",
    "        ax2.fill_between(campaign_data_registrations.index.get_level_values('date_group'), 0, campaign_data_registrations['registrations'], alpha=0.2)\n",
    "\n",
    "    ax1.set_ylabel('Unique Visits')\n",
    "    ax1.set_title('Visits during marketing active days')\n",
    "    ax1.grid(True)\n",
    "    ax1.legend()\n",
    "\n",
    "    ax2.set_ylabel('Unique registrations')\n",
    "    ax2.set_title('Registrations during marketing active days')\n",
    "    ax2.grid(True)\n",
    "    ax2.legend()\n",
    "\n",
    "    plt.savefig(\"charts/Visits_and_Registrations_Colored.png\")\n"
   ]
  },
  {
   "cell_type": "code",
   "execution_count": 18,
   "id": "d3b04d7f",
   "metadata": {
    "tags": []
   },
   "outputs": [],
   "source": [
    "def first_half():\n",
    "    load_env()\n",
    "    create_charts_folder()\n",
    "    visits_grouped()\n",
    "    registrations_grouped()\n",
    "    conversion()\n",
    "    ads_upload_merge()\n",
    "    ads_cost()\n",
    "    \n",
    "\n",
    "    "
   ]
  },
  {
   "cell_type": "code",
   "execution_count": 19,
   "id": "f613e086",
   "metadata": {
    "tags": []
   },
   "outputs": [],
   "source": [
    "def second_half():\n",
    "    visreq_colored()\n",
    "    conversion_by_platform()\n",
    "    overall_conversion() \n",
    "    registrations_by_type_pie()\n",
    "    registrations_by_type()\n",
    "    itog_registrations_by_paltform()\n",
    "    itog_registrations()\n",
    "    itog_visits_by_platform()\n",
    "    itog_visits()"
   ]
  },
  {
   "cell_type": "code",
   "execution_count": 20,
   "id": "6d0a1949",
   "metadata": {
    "tags": []
   },
   "outputs": [],
   "source": [
    "def run_all():\n",
    "    first_half()\n",
    "    second_half()\n",
    "    "
   ]
  },
  {
   "cell_type": "code",
   "execution_count": 21,
   "id": "7ba1953e-8ed3-4628-a101-edad420147fe",
   "metadata": {
    "tags": []
   },
   "outputs": [
    {
     "ename": "NameError",
     "evalue": "name 'API_URL' is not defined",
     "output_type": "error",
     "traceback": [
      "\u001b[1;31m---------------------------------------------------------------------------\u001b[0m",
      "\u001b[1;31mNameError\u001b[0m                                 Traceback (most recent call last)",
      "Cell \u001b[1;32mIn[21], line 1\u001b[0m\n\u001b[1;32m----> 1\u001b[0m run_all()\n",
      "Cell \u001b[1;32mIn[20], line 2\u001b[0m, in \u001b[0;36mrun_all\u001b[1;34m()\u001b[0m\n\u001b[0;32m      1\u001b[0m \u001b[38;5;28;01mdef\u001b[39;00m \u001b[38;5;21mrun_all\u001b[39m():\n\u001b[1;32m----> 2\u001b[0m     first_half()\n\u001b[0;32m      3\u001b[0m     second_half()\n",
      "Cell \u001b[1;32mIn[18], line 4\u001b[0m, in \u001b[0;36mfirst_half\u001b[1;34m()\u001b[0m\n\u001b[0;32m      2\u001b[0m load_env()\n\u001b[0;32m      3\u001b[0m create_charts_folder()\n\u001b[1;32m----> 4\u001b[0m visits_grouped()\n\u001b[0;32m      5\u001b[0m registrations_grouped()\n\u001b[0;32m      6\u001b[0m conversion()\n",
      "Cell \u001b[1;32mIn[4], line 2\u001b[0m, in \u001b[0;36mvisits_grouped\u001b[1;34m()\u001b[0m\n\u001b[0;32m      1\u001b[0m \u001b[38;5;28;01mdef\u001b[39;00m \u001b[38;5;21mvisits_grouped\u001b[39m():\n\u001b[1;32m----> 2\u001b[0m     vis \u001b[38;5;241m=\u001b[39m rq\u001b[38;5;241m.\u001b[39mget(\u001b[38;5;124mf\u001b[39m\u001b[38;5;124m'\u001b[39m\u001b[38;5;132;01m{\u001b[39;00mAPI_URL\u001b[38;5;132;01m}\u001b[39;00m\u001b[38;5;124m/visits\u001b[39m\u001b[38;5;124m'\u001b[39m, params\u001b[38;5;241m=\u001b[39m{\u001b[38;5;124m'\u001b[39m\u001b[38;5;124mbegin\u001b[39m\u001b[38;5;124m'\u001b[39m: DATE_BEGIN, \u001b[38;5;124m'\u001b[39m\u001b[38;5;124mend\u001b[39m\u001b[38;5;124m'\u001b[39m: DATE_END})\n\u001b[0;32m      3\u001b[0m     visits \u001b[38;5;241m=\u001b[39m pd\u001b[38;5;241m.\u001b[39mDataFrame\u001b[38;5;241m.\u001b[39mfrom_records(vis\u001b[38;5;241m.\u001b[39mjson())\n\u001b[0;32m      4\u001b[0m     visits[\u001b[38;5;124m'\u001b[39m\u001b[38;5;124mdatetime\u001b[39m\u001b[38;5;124m'\u001b[39m] \u001b[38;5;241m=\u001b[39m pd\u001b[38;5;241m.\u001b[39mto_datetime(visits[\u001b[38;5;124m'\u001b[39m\u001b[38;5;124mdatetime\u001b[39m\u001b[38;5;124m'\u001b[39m])\n",
      "\u001b[1;31mNameError\u001b[0m: name 'API_URL' is not defined"
     ]
    }
   ],
   "source": [
    "run_all()"
   ]
  },
  {
   "cell_type": "code",
   "execution_count": null,
   "id": "3e3b218d-4d15-434e-950e-bc9442b7c48b",
   "metadata": {
    "tags": []
   },
   "outputs": [],
   "source": [
    "if __name__ == \"__main__\":\n",
    "    run_all()"
   ]
  },
  {
   "cell_type": "code",
   "execution_count": null,
   "id": "db339172-d39b-4a99-9fd1-071340704e03",
   "metadata": {},
   "outputs": [],
   "source": []
  },
  {
   "cell_type": "code",
   "execution_count": null,
   "id": "12db1aff-d572-4321-b925-a29051c5805d",
   "metadata": {},
   "outputs": [],
   "source": []
  },
  {
   "cell_type": "code",
   "execution_count": null,
   "id": "fdc37e7e-3857-4d5b-807d-228b909f3fd4",
   "metadata": {},
   "outputs": [],
   "source": []
  },
  {
   "cell_type": "code",
   "execution_count": null,
   "id": "856f427d-0fc7-46c2-8d5b-77e3457a887c",
   "metadata": {},
   "outputs": [],
   "source": []
  },
  {
   "cell_type": "code",
   "execution_count": null,
   "id": "cb2ce778-fe64-469c-a857-6c3601bc1f63",
   "metadata": {},
   "outputs": [],
   "source": []
  }
 ],
 "metadata": {
  "kernelspec": {
   "display_name": "Python 3 (ipykernel)",
   "language": "python",
   "name": "python3"
  },
  "language_info": {
   "codemirror_mode": {
    "name": "ipython",
    "version": 3
   },
   "file_extension": ".py",
   "mimetype": "text/x-python",
   "name": "python",
   "nbconvert_exporter": "python",
   "pygments_lexer": "ipython3",
   "version": "3.11.5"
  }
 },
 "nbformat": 4,
 "nbformat_minor": 5
}
